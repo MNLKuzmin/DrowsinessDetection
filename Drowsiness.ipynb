{
 "cells": [
  {
   "cell_type": "markdown",
   "id": "8d5da258",
   "metadata": {},
   "source": [
    "**Fourth Project Drowsiness detection**"
   ]
  },
  {
   "cell_type": "code",
   "execution_count": 1,
   "id": "1c588350",
   "metadata": {},
   "outputs": [],
   "source": [
    "from keras_preprocessing.image import ImageDataGenerator, array_to_img, img_to_array, load_img\n",
    "import numpy as np\n",
    "import os\n",
    "\n",
    "import numpy as np\n",
    "import os, shutil\n",
    "import pandas as pd\n",
    "\n",
    "import sys\n",
    "module_path = os.path.abspath(os.path.join(os.pardir, os.pardir))\n",
    "if module_path not in sys.path:\n",
    "    sys.path.append(module_path)\n",
    "    \n",
    "from matplotlib import pyplot as plt\n",
    "import matplotlib.image as mpimg\n",
    "import seaborn as sns\n",
    "sns.set_theme(style=\"white\")\n",
    "\n",
    "from sklearn.model_selection import train_test_split, cross_val_score\n",
    "from sklearn.model_selection import GridSearchCV\n",
    "from sklearn.metrics import accuracy_score, confusion_matrix, roc_auc_score\n",
    "from sklearn.metrics import precision_score, recall_score, f1_score\n",
    "from sklearn.metrics import classification_report\n",
    "\n",
    "import tensorflow as tf\n",
    "from tensorflow.keras import datasets, layers, models\n",
    "from tensorflow.keras.models import Sequential\n",
    "from tensorflow.keras.layers import Dense\n",
    "from tensorflow.keras import regularizers\n",
    "from tensorflow.keras.constraints import MaxNorm\n",
    "from scikeras.wrappers import KerasClassifier\n",
    "from keras_preprocessing.image import ImageDataGenerator, array_to_img, img_to_array, load_img\n",
    "\n",
    "from lime import lime_image\n",
    "from skimage.segmentation import mark_boundaries\n",
    "\n",
    "# fix random seed for reproducibility\n",
    "seed = 42\n",
    "tf.random.set_seed(seed)\n",
    "\n",
    "import warnings\n",
    "warnings.filterwarnings(\"ignore\")"
   ]
  },
  {
   "cell_type": "markdown",
   "id": "58f80b61",
   "metadata": {},
   "source": [
    "Let us try to preview some of our data"
   ]
  },
  {
   "cell_type": "code",
   "execution_count": 2,
   "id": "67cee064",
   "metadata": {},
   "outputs": [],
   "source": [
    "# Directory path\n",
    "data_dir = 'data/'"
   ]
  },
  {
   "cell_type": "code",
   "execution_count": 3,
   "id": "d95df9ee",
   "metadata": {},
   "outputs": [
    {
     "name": "stdout",
     "output_type": "stream",
     "text": [
      "Found 4000 images belonging to 2 classes.\n"
     ]
    }
   ],
   "source": [
    "# Get all the data in the directory data/validation (132 images), and reshape them\n",
    "img_generator = ImageDataGenerator().flow_from_directory(data_dir, batch_size=4000)\n",
    "images, labels = next(img_generator)"
   ]
  },
  {
   "cell_type": "code",
   "execution_count": 4,
   "id": "fdd36f72",
   "metadata": {},
   "outputs": [
    {
     "data": {
      "image/png": "[encoded data removed]",
      "text/plain": [
       "<PIL.Image.Image image mode=RGB size=256x256 at 0x7FABDA1D1400>"
      ]
     },
     "execution_count": 4,
     "metadata": {},
     "output_type": "execute_result"
    }
   ],
   "source": [
    "# Preview an image\n",
    "array_to_img(images[0])"
   ]
  },
  {
   "cell_type": "code",
   "execution_count": 5,
   "id": "2bd1ba47",
   "metadata": {},
   "outputs": [
    {
     "data": {
      "text/plain": [
       "(4000, 256, 256, 3)"
      ]
     },
     "execution_count": 5,
     "metadata": {},
     "output_type": "execute_result"
    }
   ],
   "source": [
    "images.shape"
   ]
  },
  {
   "cell_type": "code",
   "execution_count": 6,
   "id": "b31309e3",
   "metadata": {},
   "outputs": [
    {
     "data": {
      "text/plain": [
       "array([[[90., 90., 90.],\n",
       "        [90., 90., 90.],\n",
       "        [90., 90., 90.],\n",
       "        ...,\n",
       "        [48., 48., 48.],\n",
       "        [48., 48., 48.],\n",
       "        [48., 48., 48.]],\n",
       "\n",
       "       [[90., 90., 90.],\n",
       "        [90., 90., 90.],\n",
       "        [90., 90., 90.],\n",
       "        ...,\n",
       "        [48., 48., 48.],\n",
       "        [48., 48., 48.],\n",
       "        [48., 48., 48.]],\n",
       "\n",
       "       [[90., 90., 90.],\n",
       "        [90., 90., 90.],\n",
       "        [90., 90., 90.],\n",
       "        ...,\n",
       "        [48., 48., 48.],\n",
       "        [48., 48., 48.],\n",
       "        [48., 48., 48.]],\n",
       "\n",
       "       ...,\n",
       "\n",
       "       [[76., 76., 76.],\n",
       "        [76., 76., 76.],\n",
       "        [76., 76., 76.],\n",
       "        ...,\n",
       "        [51., 51., 51.],\n",
       "        [51., 51., 51.],\n",
       "        [51., 51., 51.]],\n",
       "\n",
       "       [[76., 76., 76.],\n",
       "        [76., 76., 76.],\n",
       "        [76., 76., 76.],\n",
       "        ...,\n",
       "        [51., 51., 51.],\n",
       "        [51., 51., 51.],\n",
       "        [51., 51., 51.]],\n",
       "\n",
       "       [[76., 76., 76.],\n",
       "        [76., 76., 76.],\n",
       "        [76., 76., 76.],\n",
       "        ...,\n",
       "        [51., 51., 51.],\n",
       "        [51., 51., 51.],\n",
       "        [51., 51., 51.]]], dtype=float32)"
      ]
     },
     "execution_count": 6,
     "metadata": {},
     "output_type": "execute_result"
    }
   ],
   "source": [
    "images[0]"
   ]
  },
  {
   "cell_type": "code",
   "execution_count": 7,
   "id": "cf6f3221",
   "metadata": {},
   "outputs": [
    {
     "data": {
      "text/plain": [
       "array([1., 0.], dtype=float32)"
      ]
     },
     "execution_count": 7,
     "metadata": {},
     "output_type": "execute_result"
    }
   ],
   "source": [
    "labels[0]"
   ]
  },
  {
   "cell_type": "code",
   "execution_count": 8,
   "id": "6c7c07b6",
   "metadata": {},
   "outputs": [
    {
     "data": {
      "text/plain": [
       "{'Closed_Eyes': 0, 'Open_Eyes': 1}"
      ]
     },
     "execution_count": 8,
     "metadata": {},
     "output_type": "execute_result"
    }
   ],
   "source": [
    "img_generator.class_indices"
   ]
  },
  {
   "cell_type": "code",
   "execution_count": 9,
   "id": "023c6fba",
   "metadata": {},
   "outputs": [
    {
     "data": {
      "image/png": "[encoded data removed]",
      "text/plain": [
       "<PIL.Image.Image image mode=RGB size=256x256 at 0x7FABC6C73F98>"
      ]
     },
     "execution_count": 9,
     "metadata": {},
     "output_type": "execute_result"
    }
   ],
   "source": [
    "# Preview an image\n",
    "array_to_img(images[4])"
   ]
  },
  {
   "cell_type": "code",
   "execution_count": 10,
   "id": "a89e0b4c",
   "metadata": {},
   "outputs": [
    {
     "data": {
      "text/plain": [
       "array([0., 1.], dtype=float32)"
      ]
     },
     "execution_count": 10,
     "metadata": {},
     "output_type": "execute_result"
    }
   ],
   "source": [
    "labels[6]"
   ]
  },
  {
   "cell_type": "code",
   "execution_count": 11,
   "id": "216295a2",
   "metadata": {},
   "outputs": [
    {
     "data": {
      "text/plain": [
       "(4000, 2)"
      ]
     },
     "execution_count": 11,
     "metadata": {},
     "output_type": "execute_result"
    }
   ],
   "source": [
    "labels.shape"
   ]
  },
  {
   "cell_type": "code",
   "execution_count": 12,
   "id": "e5484552",
   "metadata": {},
   "outputs": [
    {
     "data": {
      "text/plain": [
       "array([[1., 0.],\n",
       "       [0., 1.],\n",
       "       [1., 0.],\n",
       "       ...,\n",
       "       [1., 0.],\n",
       "       [1., 0.],\n",
       "       [0., 1.]], dtype=float32)"
      ]
     },
     "execution_count": 12,
     "metadata": {},
     "output_type": "execute_result"
    }
   ],
   "source": [
    "labels"
   ]
  },
  {
   "cell_type": "code",
   "execution_count": 13,
   "id": "70cb51dd",
   "metadata": {},
   "outputs": [],
   "source": [
    "labs=labels[:,1]"
   ]
  },
  {
   "cell_type": "code",
   "execution_count": 14,
   "id": "5eccd3d7",
   "metadata": {},
   "outputs": [
    {
     "data": {
      "text/plain": [
       "(4000,)"
      ]
     },
     "execution_count": 14,
     "metadata": {},
     "output_type": "execute_result"
    }
   ],
   "source": [
    "labs.shape"
   ]
  },
  {
   "cell_type": "code",
   "execution_count": 15,
   "id": "fcf1ee2e",
   "metadata": {},
   "outputs": [
    {
     "data": {
      "text/plain": [
       "1.0"
      ]
     },
     "execution_count": 15,
     "metadata": {},
     "output_type": "execute_result"
    }
   ],
   "source": [
    "labs[6]"
   ]
  },
  {
   "cell_type": "markdown",
   "id": "8f77eda6",
   "metadata": {},
   "source": [
    "### Naive Model"
   ]
  },
  {
   "cell_type": "code",
   "execution_count": 16,
   "id": "71c48f3d",
   "metadata": {},
   "outputs": [],
   "source": [
    "# create model\n",
    "#Sequential: multiple layers built on top of each other\n",
    "\n",
    "model = models.Sequential()\n",
    "#Firs Convolutional Layer, with 3 neurons and 3X3 is the size of the filter\n",
    "model.add(layers.Conv2D(3, (3, 3), activation='relu',\n",
    "                        input_shape=(256,256,3)))\n",
    "#MaxPooling with filter size 2 and stride 2\n",
    "model.add(layers.MaxPooling2D(2,2))\n",
    "\n",
    "#Flattening the last layer to be able to add the last Dense layer\n",
    "model.add(layers.Flatten())\n",
    "#Dense layer with 9 neurons (because of 9 classes)\n",
    "model.add(layers.Dense(1, activation='sigmoid'))\n",
    "\n",
    "# Compiling the model\n",
    "model.compile(loss='binary_crossentropy',\n",
    "              optimizer='adam',\n",
    "              metrics=['acc'])"
   ]
  },
  {
   "cell_type": "code",
   "execution_count": 17,
   "id": "b77b69cd",
   "metadata": {},
   "outputs": [],
   "source": [
    "X=images\n",
    "y=labs"
   ]
  },
  {
   "cell_type": "code",
   "execution_count": 18,
   "id": "2a20e25a",
   "metadata": {},
   "outputs": [
    {
     "name": "stdout",
     "output_type": "stream",
     "text": [
      "Epoch 1/15\n",
      "320/320 [==============================] - 94s 290ms/step - loss: 64.3770 - acc: 0.7824 - val_loss: 0.2174 - val_acc: 0.9588\n",
      "Epoch 2/15\n",
      "320/320 [==============================] - 80s 243ms/step - loss: 0.1598 - acc: 0.9653 - val_loss: 0.1103 - val_acc: 0.9700\n",
      "Epoch 3/15\n",
      "320/320 [==============================] - 45s 139ms/step - loss: 0.0479 - acc: 0.9854 - val_loss: 0.1401 - val_acc: 0.9787\n",
      "Epoch 4/15\n",
      "320/320 [==============================] - 49s 152ms/step - loss: 0.0285 - acc: 0.9922 - val_loss: 0.1105 - val_acc: 0.9825\n",
      "Epoch 5/15\n",
      "320/320 [==============================] - 52s 163ms/step - loss: 0.0143 - acc: 0.9956 - val_loss: 0.0928 - val_acc: 0.9862\n",
      "Epoch 6/15\n",
      "320/320 [==============================] - 44s 139ms/step - loss: 0.0082 - acc: 0.9979 - val_loss: 0.1133 - val_acc: 0.9862\n",
      "Epoch 7/15\n",
      "320/320 [==============================] - 50s 157ms/step - loss: 0.0057 - acc: 0.9985 - val_loss: 0.0912 - val_acc: 0.9887\n",
      "Epoch 8/15\n",
      "320/320 [==============================] - 43s 135ms/step - loss: 0.0097 - acc: 0.9952 - val_loss: 0.1156 - val_acc: 0.9837\n",
      "Epoch 9/15\n",
      "320/320 [==============================] - 38s 119ms/step - loss: 0.0063 - acc: 0.9987 - val_loss: 0.1155 - val_acc: 0.9837\n",
      "Epoch 10/15\n",
      "320/320 [==============================] - 37s 115ms/step - loss: 0.0016 - acc: 1.0000 - val_loss: 0.1097 - val_acc: 0.9862\n",
      "Epoch 11/15\n",
      "320/320 [==============================] - 37s 114ms/step - loss: 0.0013 - acc: 0.9996 - val_loss: 0.1372 - val_acc: 0.9875\n",
      "Epoch 12/15\n",
      "320/320 [==============================] - 45s 142ms/step - loss: 0.0170 - acc: 0.9958 - val_loss: 0.2410 - val_acc: 0.9787\n",
      "Epoch 13/15\n",
      "320/320 [==============================] - 40s 124ms/step - loss: 0.1184 - acc: 0.9784 - val_loss: 0.3658 - val_acc: 0.9438\n",
      "Epoch 14/15\n",
      "320/320 [==============================] - 35s 108ms/step - loss: 0.1682 - acc: 0.9640 - val_loss: 0.3722 - val_acc: 0.9538\n",
      "Epoch 15/15\n",
      "320/320 [==============================] - 36s 112ms/step - loss: 0.2118 - acc: 0.9440 - val_loss: 0.6043 - val_acc: 0.9725\n"
     ]
    }
   ],
   "source": [
    "history = model.fit(X, y, epochs=15, batch_size=10, \n",
    "                        validation_split=0.2, verbose=1)"
   ]
  },
  {
   "cell_type": "code",
   "execution_count": 19,
   "id": "75f73374",
   "metadata": {},
   "outputs": [],
   "source": [
    "def visualize_training_results(results):\n",
    "#Extracting the history from the results of the model\n",
    "    history = results.history\n",
    "    fig, (ax1, ax2) = plt.subplots(1, 2, figsize=(12,6))\n",
    "#Plotting Train and Validation Accuracy\n",
    "    ax1.plot(history['val_acc'])\n",
    "    ax1.plot(history['acc'])\n",
    "#Setting legend, title and labels\n",
    "    ax1.legend(['val_acc', 'acc'], loc='best')\n",
    "    ax1.set_title('Accuracy')\n",
    "    ax1.set_xlabel('Epochs')\n",
    "    ax1.set_ylabel('Accuracy')\n",
    "#Plotting Train and Validation Loss    \n",
    "    ax2.plot(history['val_loss'])\n",
    "    ax2.plot(history['loss'])\n",
    "#Setting legend, title and labels\n",
    "    ax2.legend(['val_loss', 'loss'], loc='best')\n",
    "    ax2.set_title('Loss')\n",
    "    ax2.set_xlabel('Epochs')\n",
    "    ax2.set_ylabel('Loss')"
   ]
  },
  {
   "cell_type": "code",
   "execution_count": 20,
   "id": "574371ca",
   "metadata": {},
   "outputs": [
    {
     "data": {
      "image/png": "[encoded data removed]",
      "text/plain": [
       "<Figure size 864x432 with 2 Axes>"
      ]
     },
     "metadata": {
      "needs_background": "light"
     },
     "output_type": "display_data"
    }
   ],
   "source": [
    "visualize_training_results(history)"
   ]
  },
  {
   "cell_type": "code",
   "execution_count": 21,
   "id": "a15b11ff",
   "metadata": {},
   "outputs": [],
   "source": [
    "def conf_matrix(model, trainX, trainy):\n",
    "    seed = 42\n",
    "    tf.random.set_seed(seed)\n",
    "    y_pred_prob = model.predict(trainX, verbose=0)\n",
    "    # predict classes\n",
    "    y_pred_clas = (model.predict(trainX) > 0.5).astype(\"float\")\n",
    "    # confusion matrix\n",
    "    cnm = confusion_matrix(trainy, y_pred_clas)\n",
    "    # To Normalize\n",
    "    cnm = cnm.astype('float') / cnm.sum(axis=1)[:, np.newaxis]\n",
    "    fig, ax = plt.subplots(figsize=(6,5))\n",
    "    sns.heatmap(cnm, annot=True, fmt='.2f', cmap=\"Oranges\")\n",
    "    plt.ylabel('Actual')\n",
    "    plt.xlabel('Predicted')\n",
    "    plt.title('Confusion Matrix')\n",
    "    plt.show(block=False)"
   ]
  },
  {
   "cell_type": "code",
   "execution_count": null,
   "id": "b3139c62",
   "metadata": {},
   "outputs": [],
   "source": [
    "conf_matrix(model, X, y)"
   ]
  },
  {
   "cell_type": "code",
   "execution_count": null,
   "id": "5d8eb897",
   "metadata": {},
   "outputs": [],
   "source": []
  }
 ],
 "metadata": {
  "kernelspec": {
   "display_name": "Python [conda env:learn-env] *",
   "language": "python",
   "name": "conda-env-learn-env-py"
  },
  "language_info": {
   "codemirror_mode": {
    "name": "ipython",
    "version": 3
   },
   "file_extension": ".py",
   "mimetype": "text/x-python",
   "name": "python",
   "nbconvert_exporter": "python",
   "pygments_lexer": "ipython3",
   "version": "3.6.6"
  }
 },
 "nbformat": 4,
 "nbformat_minor": 5
}
