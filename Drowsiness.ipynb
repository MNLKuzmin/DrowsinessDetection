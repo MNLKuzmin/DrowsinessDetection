{
 "cells": [
  {
   "cell_type": "markdown",
   "id": "6fce8f42",
   "metadata": {},
   "source": [
    "# Drowsiness detection"
   ]
  },
  {
   "cell_type": "markdown",
   "id": "b77eb178",
   "metadata": {},
   "source": [
    "For this project we are going to build a CNN that detects whether in an image the eyes are open or closed.\n",
    "<br>This model is going to be the core of an application that can be used for drowsiness detection.\n",
    "<br>By placing the phone in front of the driver (with a specific phone holder provided) the app will function as a safety device.\n",
    "<br>It will be tracking the eye of the driver and in case the eyes close the app will produce a loud sound in order to wake the drive up.\n",
    "<br>This app can be a very useful safety tool as many of the accidents that happen to driver are related to driving while overly tired.\n",
    "<br>In the first part of this project we will create and improve the CNN model that detects the images."
   ]
  },
  {
   "cell_type": "markdown",
   "id": "8b2cab79",
   "metadata": {},
   "source": [
    "### Imports\n",
    "Let us import all the necessary libraries"
   ]
  },
  {
   "cell_type": "code",
   "execution_count": 1,
   "id": "af02b9d3",
   "metadata": {},
   "outputs": [],
   "source": [
    "from keras_preprocessing.image import ImageDataGenerator, array_to_img, img_to_array, load_img\n",
    "import numpy as np\n",
    "import os\n",
    "\n",
    "import numpy as np\n",
    "import os, shutil\n",
    "import pandas as pd\n",
    "\n",
    "import sys\n",
    "module_path = os.path.abspath(os.path.join(os.pardir, os.pardir))\n",
    "if module_path not in sys.path:\n",
    "    sys.path.append(module_path)\n",
    "    \n",
    "from matplotlib import pyplot as plt\n",
    "import matplotlib.image as mpimg\n",
    "import seaborn as sns\n",
    "sns.set_theme(style=\"white\")\n",
    "\n",
    "from sklearn.model_selection import train_test_split, cross_val_score\n",
    "from sklearn.model_selection import GridSearchCV\n",
    "from sklearn.metrics import accuracy_score, confusion_matrix, roc_auc_score\n",
    "from sklearn.metrics import precision_score, recall_score, f1_score\n",
    "from sklearn.metrics import classification_report\n",
    "\n",
    "import tensorflow as tf\n",
    "from tensorflow.keras import datasets, layers, models\n",
    "from tensorflow.keras.models import Sequential\n",
    "from tensorflow.keras.layers import Dense\n",
    "from tensorflow.keras import regularizers\n",
    "from tensorflow.keras.constraints import MaxNorm\n",
    "from scikeras.wrappers import KerasClassifier\n",
    "from keras_preprocessing.image import ImageDataGenerator, array_to_img, img_to_array, load_img\n",
    "\n",
    "from lime import lime_image\n",
    "from skimage.segmentation import mark_boundaries\n",
    "\n",
    "# fix random seed for reproducibility\n",
    "seed = 42\n",
    "tf.random.set_seed(seed)\n",
    "\n",
    "import warnings\n",
    "warnings.filterwarnings(\"ignore\")"
   ]
  },
  {
   "cell_type": "markdown",
   "id": "a9f647f1",
   "metadata": {},
   "source": [
    "## The data\n",
    "Next we are going to load and preview the data and check if any pre-processing is necessary.\n",
    "<br>The data is taken from kaggle at the following [Link](https:https://www.kaggle.com/datasets/prasadvpatil/mrl-dataset).\n",
    "<br>It contains 4000 images, equally divided (as we will see) between pictures of eyes open and eyes closed.\n",
    "<br>The original size of the images is 256x256 pixels."
   ]
  },
  {
   "cell_type": "markdown",
   "id": "c3439c0f",
   "metadata": {},
   "source": [
    "Let us try to preview some of our data"
   ]
  },
  {
   "cell_type": "code",
   "execution_count": 2,
   "id": "78b3f3a0",
   "metadata": {},
   "outputs": [],
   "source": [
    "# Directory path\n",
    "data_dir = 'data/'"
   ]
  },
  {
   "cell_type": "code",
   "execution_count": 3,
   "id": "37d1d399",
   "metadata": {},
   "outputs": [
    {
     "name": "stdout",
     "output_type": "stream",
     "text": [
      "Found 4000 images belonging to 2 classes.\n"
     ]
    }
   ],
   "source": [
    "# Get all the data in the directory data/validation (132 images), and reshape them\n",
    "img_generator = ImageDataGenerator().flow_from_directory(data_dir, batch_size=4000)\n",
    "images, labels = next(img_generator)"
   ]
  },
  {
   "cell_type": "code",
   "execution_count": 34,
   "id": "0400c28c",
   "metadata": {},
   "outputs": [
    {
     "data": {
      "image/png": "[encoded data removed]",
      "text/plain": [
       "<PIL.Image.Image image mode=RGB size=256x256 at 0x7F946B473A20>"
      ]
     },
     "execution_count": 34,
     "metadata": {},
     "output_type": "execute_result"
    }
   ],
   "source": [
    "# Preview an image\n",
    "array_to_img(images[0])"
   ]
  },
  {
   "cell_type": "markdown",
   "id": "e1046c1d",
   "metadata": {},
   "source": [
    "Let us take a look at the images shape:"
   ]
  },
  {
   "cell_type": "code",
   "execution_count": 5,
   "id": "d86d5c94",
   "metadata": {},
   "outputs": [
    {
     "data": {
      "text/plain": [
       "(4000, 256, 256, 3)"
      ]
     },
     "execution_count": 5,
     "metadata": {},
     "output_type": "execute_result"
    }
   ],
   "source": [
    "images.shape"
   ]
  },
  {
   "cell_type": "markdown",
   "id": "d5188ce0",
   "metadata": {},
   "source": [
    "This shows us that we have 4000 images and their size is 256x256 pixels."
   ]
  },
  {
   "cell_type": "code",
   "execution_count": 6,
   "id": "71d07500",
   "metadata": {},
   "outputs": [
    {
     "data": {
      "text/plain": [
       "array([[[178., 178., 178.],\n",
       "        [178., 178., 178.],\n",
       "        [168., 168., 168.],\n",
       "        ...,\n",
       "        [ 39.,  39.,  39.],\n",
       "        [ 39.,  39.,  39.],\n",
       "        [ 39.,  39.,  39.]],\n",
       "\n",
       "       [[178., 178., 178.],\n",
       "        [178., 178., 178.],\n",
       "        [168., 168., 168.],\n",
       "        ...,\n",
       "        [ 39.,  39.,  39.],\n",
       "        [ 39.,  39.,  39.],\n",
       "        [ 39.,  39.,  39.]],\n",
       "\n",
       "       [[167., 167., 167.],\n",
       "        [167., 167., 167.],\n",
       "        [160., 160., 160.],\n",
       "        ...,\n",
       "        [ 43.,  43.,  43.],\n",
       "        [ 40.,  40.,  40.],\n",
       "        [ 40.,  40.,  40.]],\n",
       "\n",
       "       ...,\n",
       "\n",
       "       [[123., 123., 123.],\n",
       "        [123., 123., 123.],\n",
       "        [133., 133., 133.],\n",
       "        ...,\n",
       "        [ 89.,  89.,  89.],\n",
       "        [ 90.,  90.,  90.],\n",
       "        [ 90.,  90.,  90.]],\n",
       "\n",
       "       [[124., 124., 124.],\n",
       "        [124., 124., 124.],\n",
       "        [124., 124., 124.],\n",
       "        ...,\n",
       "        [ 95.,  95.,  95.],\n",
       "        [ 93.,  93.,  93.],\n",
       "        [ 93.,  93.,  93.]],\n",
       "\n",
       "       [[124., 124., 124.],\n",
       "        [124., 124., 124.],\n",
       "        [124., 124., 124.],\n",
       "        ...,\n",
       "        [ 95.,  95.,  95.],\n",
       "        [ 93.,  93.,  93.],\n",
       "        [ 93.,  93.,  93.]]], dtype=float32)"
      ]
     },
     "execution_count": 6,
     "metadata": {},
     "output_type": "execute_result"
    }
   ],
   "source": [
    "images[0]"
   ]
  },
  {
   "cell_type": "markdown",
   "id": "05ca8ec5",
   "metadata": {},
   "source": [
    "Now let's preview the labels:"
   ]
  },
  {
   "cell_type": "code",
   "execution_count": 35,
   "id": "710b56d8",
   "metadata": {},
   "outputs": [
    {
     "data": {
      "text/plain": [
       "array([0., 1.], dtype=float32)"
      ]
     },
     "execution_count": 35,
     "metadata": {},
     "output_type": "execute_result"
    }
   ],
   "source": [
    "labels[0]"
   ]
  },
  {
   "cell_type": "code",
   "execution_count": 8,
   "id": "7a8e6f6f",
   "metadata": {},
   "outputs": [
    {
     "data": {
      "text/plain": [
       "array([0., 1.], dtype=float32)"
      ]
     },
     "execution_count": 8,
     "metadata": {},
     "output_type": "execute_result"
    }
   ],
   "source": [
    "labels[1]"
   ]
  },
  {
   "cell_type": "markdown",
   "id": "e0a2da18",
   "metadata": {},
   "source": [
    "Viewing the class indexes."
   ]
  },
  {
   "cell_type": "code",
   "execution_count": 9,
   "id": "8dc332c2",
   "metadata": {},
   "outputs": [
    {
     "data": {
      "text/plain": [
       "{'Closed_Eyes': 0, 'Open_Eyes': 1}"
      ]
     },
     "execution_count": 9,
     "metadata": {},
     "output_type": "execute_result"
    }
   ],
   "source": [
    "img_generator.class_indices"
   ]
  },
  {
   "cell_type": "markdown",
   "id": "e8c34522",
   "metadata": {},
   "source": [
    "Preview one more image."
   ]
  },
  {
   "cell_type": "code",
   "execution_count": 40,
   "id": "bf869da2",
   "metadata": {},
   "outputs": [
    {
     "data": {
      "image/png": "[encoded data removed]",
      "text/plain": [
       "<PIL.Image.Image image mode=RGB size=256x256 at 0x7F93A0BA6198>"
      ]
     },
     "execution_count": 40,
     "metadata": {},
     "output_type": "execute_result"
    }
   ],
   "source": [
    "# Preview an image\n",
    "array_to_img(images[4])"
   ]
  },
  {
   "cell_type": "code",
   "execution_count": 11,
   "id": "a27976fd",
   "metadata": {},
   "outputs": [
    {
     "data": {
      "text/plain": [
       "array([1., 0.], dtype=float32)"
      ]
     },
     "execution_count": 11,
     "metadata": {},
     "output_type": "execute_result"
    }
   ],
   "source": [
    "labels[6]"
   ]
  },
  {
   "cell_type": "markdown",
   "id": "561b8fee",
   "metadata": {},
   "source": [
    "Looking at the shape of the labels."
   ]
  },
  {
   "cell_type": "code",
   "execution_count": 12,
   "id": "64a9d605",
   "metadata": {},
   "outputs": [
    {
     "data": {
      "text/plain": [
       "(4000, 2)"
      ]
     },
     "execution_count": 12,
     "metadata": {},
     "output_type": "execute_result"
    }
   ],
   "source": [
    "labels.shape"
   ]
  },
  {
   "cell_type": "code",
   "execution_count": 13,
   "id": "df5f85ca",
   "metadata": {},
   "outputs": [
    {
     "data": {
      "text/plain": [
       "array([[0., 1.],\n",
       "       [0., 1.],\n",
       "       [0., 1.],\n",
       "       ...,\n",
       "       [1., 0.],\n",
       "       [1., 0.],\n",
       "       [0., 1.]], dtype=float32)"
      ]
     },
     "execution_count": 13,
     "metadata": {},
     "output_type": "execute_result"
    }
   ],
   "source": [
    "labels"
   ]
  },
  {
   "cell_type": "markdown",
   "id": "fa71d537",
   "metadata": {},
   "source": [
    "Now we are going to extract only the first one of the two columns, so that 1 means 'open' and 0 means 'closed'."
   ]
  },
  {
   "cell_type": "code",
   "execution_count": 14,
   "id": "1f94f1c0",
   "metadata": {},
   "outputs": [],
   "source": [
    "labs=labels[:,1]"
   ]
  },
  {
   "cell_type": "code",
   "execution_count": 15,
   "id": "ea40d52b",
   "metadata": {},
   "outputs": [
    {
     "data": {
      "text/plain": [
       "(4000,)"
      ]
     },
     "execution_count": 15,
     "metadata": {},
     "output_type": "execute_result"
    }
   ],
   "source": [
    "labs.shape"
   ]
  },
  {
   "cell_type": "code",
   "execution_count": 36,
   "id": "cbd3e733",
   "metadata": {},
   "outputs": [
    {
     "data": {
      "text/plain": [
       "1.0"
      ]
     },
     "execution_count": 36,
     "metadata": {},
     "output_type": "execute_result"
    }
   ],
   "source": [
    "labs[0]"
   ]
  },
  {
   "cell_type": "code",
   "execution_count": 41,
   "id": "1d62a09c",
   "metadata": {},
   "outputs": [
    {
     "data": {
      "text/plain": [
       "0.0"
      ]
     },
     "execution_count": 41,
     "metadata": {},
     "output_type": "execute_result"
    }
   ],
   "source": [
    "labs[4]"
   ]
  },
  {
   "cell_type": "markdown",
   "id": "6139481a",
   "metadata": {},
   "source": [
    "### Creating a Train and Test Split"
   ]
  },
  {
   "cell_type": "markdown",
   "id": "62ce18ed",
   "metadata": {},
   "source": [
    "Next we are going to create a Test sub-folder and copy some of the images there to keep aside as a final set of images to test on and to act as 'unseen data'.\n",
    "<br>First creating the necessary directories:"
   ]
  },
  {
   "cell_type": "code",
   "execution_count": 42,
   "id": "5d443623",
   "metadata": {},
   "outputs": [],
   "source": [
    "new_dir_train = 'data/train'\n",
    "new_dir_test = 'data/test'\n",
    "new_dir_train_open = 'data/train/open'\n",
    "new_dir_train_closed = 'data/train/closed'\n",
    "new_dir_test_open = 'data/test/open'\n",
    "new_dir_test_closed = 'data/test/closed'"
   ]
  },
  {
   "cell_type": "markdown",
   "id": "61d969d1",
   "metadata": {},
   "source": [
    "The next code block created the new folders.\n",
    "I ran this code only once and then commented it out since we don't need to recreate the folders at every re run of the code, but I left it for reference and reproducibility."
   ]
  },
  {
   "cell_type": "code",
   "execution_count": 43,
   "id": "47056a3a",
   "metadata": {},
   "outputs": [],
   "source": [
    "\"\"\"# Code to create the new folder 'binary'\n",
    "os.mkdir(new_dir_train)\n",
    "os.mkdir(new_dir_test)\n",
    "os.mkdir(new_dir_train_open)\n",
    "os.mkdir(new_dir_train_closed)\n",
    "os.mkdir(new_dir_test_open)\n",
    "os.mkdir(new_dir_test_closed)\n",
    "\"\"\""
   ]
  },
  {
   "cell_type": "markdown",
   "id": "386ce0a7",
   "metadata": {},
   "source": [
    "Next we have to copy the images. Look at bookmarked website for reference."
   ]
  },
  {
   "cell_type": "markdown",
   "id": "8cb7009b",
   "metadata": {},
   "source": [
    "### Naive Model"
   ]
  },
  {
   "cell_type": "code",
   "execution_count": 17,
   "id": "3b8c8683",
   "metadata": {},
   "outputs": [
    {
     "name": "stdout",
     "output_type": "stream",
     "text": [
      "Found 4000 images belonging to 2 classes.\n"
     ]
    }
   ],
   "source": [
    "# Get all the data in the directory data/validation (132 images), and reshape them\n",
    "img_generator = ImageDataGenerator().flow_from_directory(\n",
    "    data_dir, target_size=(32, 32), batch_size=4000)\n",
    "images_32, labels_32 = next(img_generator)"
   ]
  },
  {
   "cell_type": "code",
   "execution_count": 18,
   "id": "ac64bbb7",
   "metadata": {},
   "outputs": [],
   "source": [
    "labels_32=labels_32[:,1]"
   ]
  },
  {
   "cell_type": "markdown",
   "id": "619d8f6e",
   "metadata": {},
   "source": [
    "Let us find out if the classes are balanced:"
   ]
  },
  {
   "cell_type": "code",
   "execution_count": 19,
   "id": "58a8a9b1",
   "metadata": {},
   "outputs": [
    {
     "name": "stdout",
     "output_type": "stream",
     "text": [
      "number of non-zero: 2000\n",
      "number of zeros: 2000\n"
     ]
    }
   ],
   "source": [
    "print(f\"number of non-zero: {np.count_nonzero(labels_32)}\" )\n",
    "print(f\"number of zeros: {labels_32.size - np.count_nonzero(labels_32)}\")"
   ]
  },
  {
   "cell_type": "markdown",
   "id": "060fa11d",
   "metadata": {},
   "source": [
    "Perfect, they are. Now let us create our first naive model:"
   ]
  },
  {
   "cell_type": "code",
   "execution_count": 20,
   "id": "0182a180",
   "metadata": {},
   "outputs": [],
   "source": [
    "# create model\n",
    "#Sequential: multiple layers built on top of each other\n",
    "\n",
    "model = models.Sequential()\n",
    "#Firs Convolutional Layer, with 3 neurons and 3X3 is the size of the filter\n",
    "model.add(layers.Conv2D(3, (3, 3), activation='relu',\n",
    "                        input_shape=(32,32,3)))\n",
    "#MaxPooling with filter size 2 and stride 2\n",
    "model.add(layers.MaxPooling2D(2,2))\n",
    "\n",
    "#Flattening the last layer to be able to add the last Dense layer\n",
    "model.add(layers.Flatten())\n",
    "#Dense layer with 9 neurons (because of 9 classes)\n",
    "model.add(layers.Dense(1, activation='sigmoid'))\n",
    "\n",
    "# Compiling the model\n",
    "model.compile(loss='binary_crossentropy',\n",
    "              optimizer='adam',\n",
    "              metrics=['acc'])"
   ]
  },
  {
   "cell_type": "code",
   "execution_count": 21,
   "id": "5ac8997f",
   "metadata": {},
   "outputs": [],
   "source": [
    "X=images_32\n",
    "y=labels_32"
   ]
  },
  {
   "cell_type": "code",
   "execution_count": 22,
   "id": "db56434f",
   "metadata": {},
   "outputs": [
    {
     "name": "stdout",
     "output_type": "stream",
     "text": [
      "Epoch 1/15\n",
      "320/320 [==============================] - 9s 18ms/step - loss: 3.7841 - acc: 0.6842 - val_loss: 0.3067 - val_acc: 0.9075\n",
      "Epoch 2/15\n",
      "320/320 [==============================] - 2s 7ms/step - loss: 0.2038 - acc: 0.9321 - val_loss: 0.1423 - val_acc: 0.9525\n",
      "Epoch 3/15\n",
      "320/320 [==============================] - 3s 8ms/step - loss: 0.1283 - acc: 0.9596 - val_loss: 0.1021 - val_acc: 0.9650\n",
      "Epoch 4/15\n",
      "320/320 [==============================] - 3s 9ms/step - loss: 0.0912 - acc: 0.9696 - val_loss: 0.1731 - val_acc: 0.9300\n",
      "Epoch 5/15\n",
      "320/320 [==============================] - 2s 6ms/step - loss: 0.0758 - acc: 0.9792 - val_loss: 0.0956 - val_acc: 0.9725\n",
      "Epoch 6/15\n",
      "320/320 [==============================] - 3s 10ms/step - loss: 0.0682 - acc: 0.9780 - val_loss: 0.0718 - val_acc: 0.9762\n",
      "Epoch 7/15\n",
      "320/320 [==============================] - 3s 11ms/step - loss: 0.0521 - acc: 0.9857 - val_loss: 0.0788 - val_acc: 0.9750\n",
      "Epoch 8/15\n",
      "320/320 [==============================] - 3s 9ms/step - loss: 0.0378 - acc: 0.9883 - val_loss: 0.0580 - val_acc: 0.9762\n",
      "Epoch 9/15\n",
      "320/320 [==============================] - 4s 11ms/step - loss: 0.0489 - acc: 0.9853 - val_loss: 0.0682 - val_acc: 0.9787\n",
      "Epoch 10/15\n",
      "320/320 [==============================] - 2s 6ms/step - loss: 0.0270 - acc: 0.9918 - val_loss: 0.0582 - val_acc: 0.9875\n",
      "Epoch 11/15\n",
      "320/320 [==============================] - 2s 5ms/step - loss: 0.0364 - acc: 0.9886 - val_loss: 0.0728 - val_acc: 0.9800\n",
      "Epoch 12/15\n",
      "320/320 [==============================] - 2s 7ms/step - loss: 0.0236 - acc: 0.9920 - val_loss: 0.0511 - val_acc: 0.9850\n",
      "Epoch 13/15\n",
      "320/320 [==============================] - 2s 7ms/step - loss: 0.0121 - acc: 0.9954 - val_loss: 0.0665 - val_acc: 0.9887\n",
      "Epoch 14/15\n",
      "320/320 [==============================] - 2s 7ms/step - loss: 0.0079 - acc: 0.9981 - val_loss: 0.2314 - val_acc: 0.9613\n",
      "Epoch 15/15\n",
      "320/320 [==============================] - 2s 7ms/step - loss: 0.0254 - acc: 0.9906 - val_loss: 0.1144 - val_acc: 0.9862\n"
     ]
    }
   ],
   "source": [
    "history = model.fit(X, y, epochs=15, batch_size=10, \n",
    "                        validation_split=0.2, verbose=1)"
   ]
  },
  {
   "cell_type": "markdown",
   "id": "73d3a868",
   "metadata": {},
   "source": [
    "Defining some functions to evaluate the model:"
   ]
  },
  {
   "cell_type": "code",
   "execution_count": 23,
   "id": "99f70912",
   "metadata": {},
   "outputs": [],
   "source": [
    "def visualize_training_results(results):\n",
    "#Extracting the history from the results of the model\n",
    "    history = results.history\n",
    "    fig, (ax1, ax2) = plt.subplots(1, 2, figsize=(12,6))\n",
    "#Plotting Train and Validation Accuracy\n",
    "    ax1.plot(history['val_acc'])\n",
    "    ax1.plot(history['acc'])\n",
    "#Setting legend, title and labels\n",
    "    ax1.legend(['val_acc', 'acc'], loc='best')\n",
    "    ax1.set_title('Accuracy')\n",
    "    ax1.set_xlabel('Epochs')\n",
    "    ax1.set_ylabel('Accuracy')\n",
    "#Plotting Train and Validation Loss    \n",
    "    ax2.plot(history['val_loss'])\n",
    "    ax2.plot(history['loss'])\n",
    "#Setting legend, title and labels\n",
    "    ax2.legend(['val_loss', 'loss'], loc='best')\n",
    "    ax2.set_title('Loss')\n",
    "    ax2.set_xlabel('Epochs')\n",
    "    ax2.set_ylabel('Loss')"
   ]
  },
  {
   "cell_type": "code",
   "execution_count": 24,
   "id": "eefc3e35",
   "metadata": {},
   "outputs": [
    {
     "data": {
      "image/png": "[encoded data removed]",
      "text/plain": [
       "<Figure size 864x432 with 2 Axes>"
      ]
     },
     "metadata": {
      "needs_background": "light"
     },
     "output_type": "display_data"
    }
   ],
   "source": [
    "visualize_training_results(history)"
   ]
  },
  {
   "cell_type": "code",
   "execution_count": 25,
   "id": "7a581b49",
   "metadata": {},
   "outputs": [],
   "source": [
    "def conf_matrix(model, trainX, trainy):\n",
    "    seed = 42\n",
    "    tf.random.set_seed(seed)\n",
    "#    y_pred_prob = model.predict(trainX, verbose=0)\n",
    "    # predict classes\n",
    "    y_pred_clas = (model.predict(trainX) > 0.5).astype(\"float\")\n",
    "    # confusion matrix\n",
    "    cnm = confusion_matrix(trainy, y_pred_clas)\n",
    "    # To Normalize\n",
    "    cnm = cnm.astype('float') / cnm.sum(axis=1)[:, np.newaxis]\n",
    "    fig, ax = plt.subplots(figsize=(6,5))\n",
    "    sns.heatmap(cnm, annot=True, fmt='.2f', cmap=\"Oranges\")\n",
    "    plt.ylabel('Actual')\n",
    "    plt.xlabel('Predicted')\n",
    "    plt.title('Confusion Matrix')\n",
    "    plt.show(block=False)"
   ]
  },
  {
   "cell_type": "code",
   "execution_count": 26,
   "id": "cf13d285",
   "metadata": {},
   "outputs": [
    {
     "data": {
      "image/png": "[encoded data removed]",
      "text/plain": [
       "<Figure size 432x360 with 2 Axes>"
      ]
     },
     "metadata": {
      "needs_background": "light"
     },
     "output_type": "display_data"
    }
   ],
   "source": [
    "conf_matrix(model, X, y)"
   ]
  },
  {
   "cell_type": "markdown",
   "id": "338932fd",
   "metadata": {},
   "source": [
    "Let us see what happens increasing the size of the images:"
   ]
  },
  {
   "cell_type": "code",
   "execution_count": 27,
   "id": "6b244636",
   "metadata": {},
   "outputs": [
    {
     "name": "stdout",
     "output_type": "stream",
     "text": [
      "Found 4000 images belonging to 2 classes.\n"
     ]
    }
   ],
   "source": [
    "# Get all the data in the directory data/validation (132 images), and reshape them\n",
    "img_generator = ImageDataGenerator().flow_from_directory(\n",
    "    data_dir, target_size=(64, 64), batch_size=4000)\n",
    "images_64, labels_64 = next(img_generator)"
   ]
  },
  {
   "cell_type": "code",
   "execution_count": 28,
   "id": "23e41786",
   "metadata": {},
   "outputs": [],
   "source": [
    "labels_64=labels_64[:,1]"
   ]
  },
  {
   "cell_type": "code",
   "execution_count": 29,
   "id": "202eeb3b",
   "metadata": {},
   "outputs": [],
   "source": [
    "# create model\n",
    "#Sequential: multiple layers built on top of each other\n",
    "\n",
    "model = models.Sequential()\n",
    "#Firs Convolutional Layer, with 3 neurons and 3X3 is the size of the filter\n",
    "model.add(layers.Conv2D(3, (3, 3), activation='relu',\n",
    "                        input_shape=(64,64,3)))\n",
    "#MaxPooling with filter size 2 and stride 2\n",
    "model.add(layers.MaxPooling2D(2,2))\n",
    "\n",
    "#Flattening the last layer to be able to add the last Dense layer\n",
    "model.add(layers.Flatten())\n",
    "#Dense layer with 9 neurons (because of 9 classes)\n",
    "model.add(layers.Dense(1, activation='sigmoid'))\n",
    "\n",
    "# Compiling the model\n",
    "model.compile(loss='binary_crossentropy',\n",
    "              optimizer='adam',\n",
    "              metrics=['acc'])"
   ]
  },
  {
   "cell_type": "code",
   "execution_count": 30,
   "id": "b5fab63c",
   "metadata": {},
   "outputs": [],
   "source": [
    "X=images_64\n",
    "y=labels_64"
   ]
  },
  {
   "cell_type": "code",
   "execution_count": 31,
   "id": "4edf80fa",
   "metadata": {},
   "outputs": [
    {
     "name": "stdout",
     "output_type": "stream",
     "text": [
      "Epoch 1/15\n",
      "320/320 [==============================] - 5s 13ms/step - loss: 3.3749 - acc: 0.7667 - val_loss: 0.1779 - val_acc: 0.9525\n",
      "Epoch 2/15\n",
      "320/320 [==============================] - 4s 14ms/step - loss: 0.1429 - acc: 0.9479 - val_loss: 0.2576 - val_acc: 0.9137\n",
      "Epoch 3/15\n",
      "320/320 [==============================] - 4s 14ms/step - loss: 0.0851 - acc: 0.9725 - val_loss: 0.1465 - val_acc: 0.9613\n",
      "Epoch 4/15\n",
      "320/320 [==============================] - 4s 13ms/step - loss: 0.0365 - acc: 0.9859 - val_loss: 0.1990 - val_acc: 0.9500\n",
      "Epoch 5/15\n",
      "320/320 [==============================] - 4s 14ms/step - loss: 0.0767 - acc: 0.9745 - val_loss: 0.1662 - val_acc: 0.9400\n",
      "Epoch 6/15\n",
      "320/320 [==============================] - 4s 13ms/step - loss: 0.0672 - acc: 0.9746 - val_loss: 0.1101 - val_acc: 0.9737\n",
      "Epoch 7/15\n",
      "320/320 [==============================] - 4s 13ms/step - loss: 0.0437 - acc: 0.9846 - val_loss: 0.2145 - val_acc: 0.9613\n",
      "Epoch 8/15\n",
      "320/320 [==============================] - 4s 12ms/step - loss: 0.0291 - acc: 0.9907 - val_loss: 0.1295 - val_acc: 0.9825\n",
      "Epoch 9/15\n",
      "320/320 [==============================] - 4s 12ms/step - loss: 0.0123 - acc: 0.9962 - val_loss: 0.1827 - val_acc: 0.9762\n",
      "Epoch 10/15\n",
      "320/320 [==============================] - 4s 11ms/step - loss: 0.0160 - acc: 0.9956 - val_loss: 0.1053 - val_acc: 0.9825\n",
      "Epoch 11/15\n",
      "320/320 [==============================] - 4s 12ms/step - loss: 0.0079 - acc: 0.9968 - val_loss: 0.1240 - val_acc: 0.9825\n",
      "Epoch 12/15\n",
      "320/320 [==============================] - 4s 12ms/step - loss: 0.0011 - acc: 1.0000 - val_loss: 0.1205 - val_acc: 0.9837\n",
      "Epoch 13/15\n",
      "320/320 [==============================] - 4s 13ms/step - loss: 0.0013 - acc: 1.0000 - val_loss: 0.1167 - val_acc: 0.9837\n",
      "Epoch 14/15\n",
      "320/320 [==============================] - 4s 12ms/step - loss: 0.0020 - acc: 0.9995 - val_loss: 0.1151 - val_acc: 0.9837\n",
      "Epoch 15/15\n",
      "320/320 [==============================] - 4s 13ms/step - loss: 0.0019 - acc: 0.9996 - val_loss: 0.1312 - val_acc: 0.9812\n"
     ]
    }
   ],
   "source": [
    "history = model.fit(X, y, epochs=15, batch_size=10, \n",
    "                        validation_split=0.2, verbose=1)"
   ]
  },
  {
   "cell_type": "code",
   "execution_count": 32,
   "id": "d10c387a",
   "metadata": {},
   "outputs": [
    {
     "data": {
      "image/png": "[encoded data removed]",
      "text/plain": [
       "<Figure size 864x432 with 2 Axes>"
      ]
     },
     "metadata": {
      "needs_background": "light"
     },
     "output_type": "display_data"
    }
   ],
   "source": [
    "visualize_training_results(history)"
   ]
  },
  {
   "cell_type": "code",
   "execution_count": 33,
   "id": "29db50cb",
   "metadata": {},
   "outputs": [
    {
     "data": {
      "image/png": "[encoded data removed]",
      "text/plain": [
       "<Figure size 432x360 with 2 Axes>"
      ]
     },
     "metadata": {
      "needs_background": "light"
     },
     "output_type": "display_data"
    }
   ],
   "source": [
    "conf_matrix(model, X, y)"
   ]
  },
  {
   "cell_type": "code",
   "execution_count": null,
   "id": "6326151d",
   "metadata": {},
   "outputs": [],
   "source": []
  },
  {
   "cell_type": "code",
   "execution_count": null,
   "id": "76d9d72c",
   "metadata": {},
   "outputs": [],
   "source": []
  }
 ],
 "metadata": {
  "kernelspec": {
   "display_name": "Python [conda env:learn-env] *",
   "language": "python",
   "name": "conda-env-learn-env-py"
  },
  "language_info": {
   "codemirror_mode": {
    "name": "ipython",
    "version": 3
   },
   "file_extension": ".py",
   "mimetype": "text/x-python",
   "name": "python",
   "nbconvert_exporter": "python",
   "pygments_lexer": "ipython3",
   "version": "3.6.6"
  }
 },
 "nbformat": 4,
 "nbformat_minor": 5
}
