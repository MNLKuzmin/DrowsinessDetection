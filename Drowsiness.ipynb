{
 "cells": [
  {
   "cell_type": "markdown",
   "id": "8f920042",
   "metadata": {},
   "source": [
    "**Fourth Project Drowsiness detection**"
   ]
  },
  {
   "cell_type": "code",
   "execution_count": 1,
   "id": "b2462fda",
   "metadata": {},
   "outputs": [],
   "source": [
    "from keras_preprocessing.image import ImageDataGenerator, array_to_img, img_to_array, load_img\n",
    "import numpy as np\n",
    "import os\n",
    "\n",
    "import numpy as np\n",
    "import os, shutil\n",
    "import pandas as pd\n",
    "\n",
    "import sys\n",
    "module_path = os.path.abspath(os.path.join(os.pardir, os.pardir))\n",
    "if module_path not in sys.path:\n",
    "    sys.path.append(module_path)\n",
    "    \n",
    "from matplotlib import pyplot as plt\n",
    "import matplotlib.image as mpimg\n",
    "import seaborn as sns\n",
    "sns.set_theme(style=\"white\")\n",
    "\n",
    "from sklearn.model_selection import train_test_split, cross_val_score\n",
    "from sklearn.model_selection import GridSearchCV\n",
    "from sklearn.metrics import accuracy_score, confusion_matrix, roc_auc_score\n",
    "from sklearn.metrics import precision_score, recall_score, f1_score\n",
    "from sklearn.metrics import classification_report\n",
    "\n",
    "import tensorflow as tf\n",
    "from tensorflow.keras import datasets, layers, models\n",
    "from tensorflow.keras.models import Sequential\n",
    "from tensorflow.keras.layers import Dense\n",
    "from tensorflow.keras import regularizers\n",
    "from tensorflow.keras.constraints import MaxNorm\n",
    "from scikeras.wrappers import KerasClassifier\n",
    "from keras_preprocessing.image import ImageDataGenerator, array_to_img, img_to_array, load_img\n",
    "\n",
    "from lime import lime_image\n",
    "from skimage.segmentation import mark_boundaries\n",
    "\n",
    "# fix random seed for reproducibility\n",
    "seed = 42\n",
    "tf.random.set_seed(seed)\n",
    "\n",
    "import warnings\n",
    "warnings.filterwarnings(\"ignore\")"
   ]
  },
  {
   "cell_type": "markdown",
   "id": "6667d1b7",
   "metadata": {},
   "source": [
    "Let us try to preview some of our data"
   ]
  },
  {
   "cell_type": "code",
   "execution_count": 2,
   "id": "79d34f3d",
   "metadata": {},
   "outputs": [],
   "source": [
    "# Directory path\n",
    "data_dir = 'data/'"
   ]
  },
  {
   "cell_type": "code",
   "execution_count": 3,
   "id": "9bb0e5bf",
   "metadata": {},
   "outputs": [
    {
     "name": "stdout",
     "output_type": "stream",
     "text": [
      "Found 4000 images belonging to 2 classes.\n"
     ]
    }
   ],
   "source": [
    "# Get all the data in the directory data/validation (132 images), and reshape them\n",
    "img_generator = ImageDataGenerator().flow_from_directory(data_dir, batch_size=4000)\n",
    "images, labels = next(img_generator)"
   ]
  },
  {
   "cell_type": "code",
   "execution_count": 4,
   "id": "c0611411",
   "metadata": {},
   "outputs": [
    {
     "data": {
      "image/png": "[encoded data removed]",
      "text/plain": [
       "<PIL.Image.Image image mode=RGB size=256x256 at 0x7FABDA1D1400>"
      ]
     },
     "execution_count": 4,
     "metadata": {},
     "output_type": "execute_result"
    }
   ],
   "source": [
    "# Preview an image\n",
    "array_to_img(images[0])"
   ]
  },
  {
   "cell_type": "code",
   "execution_count": 5,
   "id": "f65113a8",
   "metadata": {},
   "outputs": [
    {
     "data": {
      "text/plain": [
       "(4000, 256, 256, 3)"
      ]
     },
     "execution_count": 5,
     "metadata": {},
     "output_type": "execute_result"
    }
   ],
   "source": [
    "images.shape"
   ]
  },
  {
   "cell_type": "code",
   "execution_count": 6,
   "id": "c1aee90f",
   "metadata": {},
   "outputs": [
    {
     "data": {
      "text/plain": [
       "array([[[90., 90., 90.],\n",
       "        [90., 90., 90.],\n",
       "        [90., 90., 90.],\n",
       "        ...,\n",
       "        [48., 48., 48.],\n",
       "        [48., 48., 48.],\n",
       "        [48., 48., 48.]],\n",
       "\n",
       "       [[90., 90., 90.],\n",
       "        [90., 90., 90.],\n",
       "        [90., 90., 90.],\n",
       "        ...,\n",
       "        [48., 48., 48.],\n",
       "        [48., 48., 48.],\n",
       "        [48., 48., 48.]],\n",
       "\n",
       "       [[90., 90., 90.],\n",
       "        [90., 90., 90.],\n",
       "        [90., 90., 90.],\n",
       "        ...,\n",
       "        [48., 48., 48.],\n",
       "        [48., 48., 48.],\n",
       "        [48., 48., 48.]],\n",
       "\n",
       "       ...,\n",
       "\n",
       "       [[76., 76., 76.],\n",
       "        [76., 76., 76.],\n",
       "        [76., 76., 76.],\n",
       "        ...,\n",
       "        [51., 51., 51.],\n",
       "        [51., 51., 51.],\n",
       "        [51., 51., 51.]],\n",
       "\n",
       "       [[76., 76., 76.],\n",
       "        [76., 76., 76.],\n",
       "        [76., 76., 76.],\n",
       "        ...,\n",
       "        [51., 51., 51.],\n",
       "        [51., 51., 51.],\n",
       "        [51., 51., 51.]],\n",
       "\n",
       "       [[76., 76., 76.],\n",
       "        [76., 76., 76.],\n",
       "        [76., 76., 76.],\n",
       "        ...,\n",
       "        [51., 51., 51.],\n",
       "        [51., 51., 51.],\n",
       "        [51., 51., 51.]]], dtype=float32)"
      ]
     },
     "execution_count": 6,
     "metadata": {},
     "output_type": "execute_result"
    }
   ],
   "source": [
    "images[0]"
   ]
  },
  {
   "cell_type": "code",
   "execution_count": 7,
   "id": "05f45f9d",
   "metadata": {},
   "outputs": [
    {
     "data": {
      "text/plain": [
       "array([1., 0.], dtype=float32)"
      ]
     },
     "execution_count": 7,
     "metadata": {},
     "output_type": "execute_result"
    }
   ],
   "source": [
    "labels[0]"
   ]
  },
  {
   "cell_type": "code",
   "execution_count": 8,
   "id": "bfb56d81",
   "metadata": {},
   "outputs": [
    {
     "data": {
      "text/plain": [
       "{'Closed_Eyes': 0, 'Open_Eyes': 1}"
      ]
     },
     "execution_count": 8,
     "metadata": {},
     "output_type": "execute_result"
    }
   ],
   "source": [
    "img_generator.class_indices"
   ]
  },
  {
   "cell_type": "code",
   "execution_count": 9,
   "id": "7791923f",
   "metadata": {},
   "outputs": [
    {
     "data": {
      "image/png": "[encoded data removed]",
      "text/plain": [
       "<PIL.Image.Image image mode=RGB size=256x256 at 0x7FABC6C73F98>"
      ]
     },
     "execution_count": 9,
     "metadata": {},
     "output_type": "execute_result"
    }
   ],
   "source": [
    "# Preview an image\n",
    "array_to_img(images[4])"
   ]
  },
  {
   "cell_type": "code",
   "execution_count": 10,
   "id": "ddbdc17e",
   "metadata": {},
   "outputs": [
    {
     "data": {
      "text/plain": [
       "array([0., 1.], dtype=float32)"
      ]
     },
     "execution_count": 10,
     "metadata": {},
     "output_type": "execute_result"
    }
   ],
   "source": [
    "labels[6]"
   ]
  },
  {
   "cell_type": "code",
   "execution_count": 11,
   "id": "1a6be335",
   "metadata": {},
   "outputs": [
    {
     "data": {
      "text/plain": [
       "(4000, 2)"
      ]
     },
     "execution_count": 11,
     "metadata": {},
     "output_type": "execute_result"
    }
   ],
   "source": [
    "labels.shape"
   ]
  },
  {
   "cell_type": "code",
   "execution_count": 12,
   "id": "e204d17f",
   "metadata": {},
   "outputs": [
    {
     "data": {
      "text/plain": [
       "array([[1., 0.],\n",
       "       [0., 1.],\n",
       "       [1., 0.],\n",
       "       ...,\n",
       "       [1., 0.],\n",
       "       [1., 0.],\n",
       "       [0., 1.]], dtype=float32)"
      ]
     },
     "execution_count": 12,
     "metadata": {},
     "output_type": "execute_result"
    }
   ],
   "source": [
    "labels"
   ]
  },
  {
   "cell_type": "code",
   "execution_count": 13,
   "id": "bee7b1a4",
   "metadata": {},
   "outputs": [],
   "source": [
    "labs=labels[:,1]"
   ]
  },
  {
   "cell_type": "code",
   "execution_count": 14,
   "id": "a47f4655",
   "metadata": {},
   "outputs": [
    {
     "data": {
      "text/plain": [
       "(4000,)"
      ]
     },
     "execution_count": 14,
     "metadata": {},
     "output_type": "execute_result"
    }
   ],
   "source": [
    "labs.shape"
   ]
  },
  {
   "cell_type": "code",
   "execution_count": 24,
   "id": "b4f62bc4",
   "metadata": {},
   "outputs": [
    {
     "data": {
      "text/plain": [
       "1.0"
      ]
     },
     "execution_count": 24,
     "metadata": {},
     "output_type": "execute_result"
    }
   ],
   "source": [
    "labs[1]"
   ]
  },
  {
   "cell_type": "markdown",
   "id": "2f3a85af",
   "metadata": {},
   "source": [
    "### Naive Model"
   ]
  },
  {
   "cell_type": "code",
   "execution_count": 26,
   "id": "06bc59e3",
   "metadata": {},
   "outputs": [
    {
     "name": "stdout",
     "output_type": "stream",
     "text": [
      "Found 4000 images belonging to 2 classes.\n"
     ]
    }
   ],
   "source": [
    "# Get all the data in the directory data/validation (132 images), and reshape them\n",
    "img_generator = ImageDataGenerator().flow_from_directory(\n",
    "    data_dir, target_size=(32, 32), batch_size=4000)\n",
    "images_32, labels_32 = next(img_generator)"
   ]
  },
  {
   "cell_type": "code",
   "execution_count": 27,
   "id": "04945047",
   "metadata": {},
   "outputs": [],
   "source": [
    "labels_32=labels_32[:,1]"
   ]
  },
  {
   "cell_type": "markdown",
   "id": "09345f90",
   "metadata": {},
   "source": [
    "Let us find out if the classes are balanced:"
   ]
  },
  {
   "cell_type": "code",
   "execution_count": 28,
   "id": "06cbfec2",
   "metadata": {},
   "outputs": [
    {
     "name": "stdout",
     "output_type": "stream",
     "text": [
      "number of non-zero: 2000\n",
      "number of zeros: 2000\n"
     ]
    }
   ],
   "source": [
    "print(f\"number of non-zero: {np.count_nonzero(labels_32)}\" )\n",
    "print(f\"number of zeros: {labels_32.size - np.count_nonzero(labels_32)}\")"
   ]
  },
  {
   "cell_type": "markdown",
   "id": "a76fddfd",
   "metadata": {},
   "source": [
    "Perfect, they are. Now let us create our first naive model:"
   ]
  },
  {
   "cell_type": "code",
   "execution_count": 29,
   "id": "ab629ad5",
   "metadata": {},
   "outputs": [],
   "source": [
    "# create model\n",
    "#Sequential: multiple layers built on top of each other\n",
    "\n",
    "model = models.Sequential()\n",
    "#Firs Convolutional Layer, with 3 neurons and 3X3 is the size of the filter\n",
    "model.add(layers.Conv2D(3, (3, 3), activation='relu',\n",
    "                        input_shape=(32,32,3)))\n",
    "#MaxPooling with filter size 2 and stride 2\n",
    "model.add(layers.MaxPooling2D(2,2))\n",
    "\n",
    "#Flattening the last layer to be able to add the last Dense layer\n",
    "model.add(layers.Flatten())\n",
    "#Dense layer with 9 neurons (because of 9 classes)\n",
    "model.add(layers.Dense(1, activation='sigmoid'))\n",
    "\n",
    "# Compiling the model\n",
    "model.compile(loss='binary_crossentropy',\n",
    "              optimizer='adam',\n",
    "              metrics=['acc'])"
   ]
  },
  {
   "cell_type": "code",
   "execution_count": 32,
   "id": "14f3be1f",
   "metadata": {},
   "outputs": [],
   "source": [
    "X=images_32\n",
    "y=labels_32"
   ]
  },
  {
   "cell_type": "code",
   "execution_count": 33,
   "id": "8afa5cf8",
   "metadata": {},
   "outputs": [
    {
     "name": "stdout",
     "output_type": "stream",
     "text": [
      "Epoch 1/15\n",
      "320/320 [==============================] - 1s 5ms/step - loss: 0.6096 - acc: 0.7025 - val_loss: 0.5524 - val_acc: 0.7538\n",
      "Epoch 2/15\n",
      "320/320 [==============================] - 2s 5ms/step - loss: 0.5617 - acc: 0.7425 - val_loss: 0.5338 - val_acc: 0.7763\n",
      "Epoch 3/15\n",
      "320/320 [==============================] - 2s 7ms/step - loss: 0.5441 - acc: 0.7616 - val_loss: 0.5108 - val_acc: 0.7825\n",
      "Epoch 4/15\n",
      "320/320 [==============================] - 2s 5ms/step - loss: 0.5150 - acc: 0.7941 - val_loss: 0.4817 - val_acc: 0.8188\n",
      "Epoch 5/15\n",
      "320/320 [==============================] - 2s 5ms/step - loss: 0.4642 - acc: 0.8456 - val_loss: 0.3927 - val_acc: 0.9013\n",
      "Epoch 6/15\n",
      "320/320 [==============================] - 2s 5ms/step - loss: 0.3848 - acc: 0.8731 - val_loss: 0.3349 - val_acc: 0.9262\n",
      "Epoch 7/15\n",
      "320/320 [==============================] - 2s 5ms/step - loss: 0.2988 - acc: 0.9103 - val_loss: 0.2313 - val_acc: 0.9500\n",
      "Epoch 8/15\n",
      "320/320 [==============================] - 2s 6ms/step - loss: 0.2313 - acc: 0.9281 - val_loss: 0.1763 - val_acc: 0.9563\n",
      "Epoch 9/15\n",
      "320/320 [==============================] - 2s 5ms/step - loss: 0.1764 - acc: 0.9422 - val_loss: 0.1786 - val_acc: 0.9563\n",
      "Epoch 10/15\n",
      "320/320 [==============================] - 2s 6ms/step - loss: 0.1342 - acc: 0.9578 - val_loss: 0.1389 - val_acc: 0.9600\n",
      "Epoch 11/15\n",
      "320/320 [==============================] - 1s 5ms/step - loss: 0.1124 - acc: 0.9653 - val_loss: 0.1280 - val_acc: 0.9650\n",
      "Epoch 12/15\n",
      "320/320 [==============================] - 1s 5ms/step - loss: 0.0944 - acc: 0.9666 - val_loss: 0.1002 - val_acc: 0.9688\n",
      "Epoch 13/15\n",
      "320/320 [==============================] - 2s 6ms/step - loss: 0.0941 - acc: 0.9656 - val_loss: 0.1037 - val_acc: 0.9725\n",
      "Epoch 14/15\n",
      "320/320 [==============================] - 2s 6ms/step - loss: 0.0878 - acc: 0.9712 - val_loss: 0.0938 - val_acc: 0.9737\n",
      "Epoch 15/15\n",
      "320/320 [==============================] - 2s 5ms/step - loss: 0.0697 - acc: 0.9766 - val_loss: 0.0907 - val_acc: 0.9725\n"
     ]
    }
   ],
   "source": [
    "history = model.fit(X, y, epochs=15, batch_size=10, \n",
    "                        validation_split=0.2, verbose=1)"
   ]
  },
  {
   "cell_type": "markdown",
   "id": "a8f0a534",
   "metadata": {},
   "source": [
    "Defining some functions to evaluate the model:"
   ]
  },
  {
   "cell_type": "code",
   "execution_count": 35,
   "id": "342ca7b4",
   "metadata": {},
   "outputs": [],
   "source": [
    "def visualize_training_results(results):\n",
    "#Extracting the history from the results of the model\n",
    "    history = results.history\n",
    "    fig, (ax1, ax2) = plt.subplots(1, 2, figsize=(12,6))\n",
    "#Plotting Train and Validation Accuracy\n",
    "    ax1.plot(history['val_acc'])\n",
    "    ax1.plot(history['acc'])\n",
    "#Setting legend, title and labels\n",
    "    ax1.legend(['val_acc', 'acc'], loc='best')\n",
    "    ax1.set_title('Accuracy')\n",
    "    ax1.set_xlabel('Epochs')\n",
    "    ax1.set_ylabel('Accuracy')\n",
    "#Plotting Train and Validation Loss    \n",
    "    ax2.plot(history['val_loss'])\n",
    "    ax2.plot(history['loss'])\n",
    "#Setting legend, title and labels\n",
    "    ax2.legend(['val_loss', 'loss'], loc='best')\n",
    "    ax2.set_title('Loss')\n",
    "    ax2.set_xlabel('Epochs')\n",
    "    ax2.set_ylabel('Loss')"
   ]
  },
  {
   "cell_type": "code",
   "execution_count": 36,
   "id": "261028ed",
   "metadata": {},
   "outputs": [
    {
     "data": {
      "image/png": "[encoded data removed]",
      "text/plain": [
       "<Figure size 864x432 with 2 Axes>"
      ]
     },
     "metadata": {
      "needs_background": "light"
     },
     "output_type": "display_data"
    }
   ],
   "source": [
    "visualize_training_results(history)"
   ]
  },
  {
   "cell_type": "code",
   "execution_count": 37,
   "id": "758ba0c8",
   "metadata": {},
   "outputs": [],
   "source": [
    "def conf_matrix(model, trainX, trainy):\n",
    "    seed = 42\n",
    "    tf.random.set_seed(seed)\n",
    "#    y_pred_prob = model.predict(trainX, verbose=0)\n",
    "    # predict classes\n",
    "    y_pred_clas = (model.predict(trainX) > 0.5).astype(\"float\")\n",
    "    # confusion matrix\n",
    "    cnm = confusion_matrix(trainy, y_pred_clas)\n",
    "    # To Normalize\n",
    "    cnm = cnm.astype('float') / cnm.sum(axis=1)[:, np.newaxis]\n",
    "    fig, ax = plt.subplots(figsize=(6,5))\n",
    "    sns.heatmap(cnm, annot=True, fmt='.2f', cmap=\"Oranges\")\n",
    "    plt.ylabel('Actual')\n",
    "    plt.xlabel('Predicted')\n",
    "    plt.title('Confusion Matrix')\n",
    "    plt.show(block=False)"
   ]
  },
  {
   "cell_type": "code",
   "execution_count": 38,
   "id": "7560b350",
   "metadata": {},
   "outputs": [
    {
     "data": {
      "image/png": "[encoded data removed]",
      "text/plain": [
       "<Figure size 432x360 with 2 Axes>"
      ]
     },
     "metadata": {
      "needs_background": "light"
     },
     "output_type": "display_data"
    }
   ],
   "source": [
    "conf_matrix(model, X, y)"
   ]
  },
  {
   "cell_type": "markdown",
   "id": "0ddf8fe2",
   "metadata": {},
   "source": [
    "Let us see what happens increasing the size of the images:"
   ]
  },
  {
   "cell_type": "code",
   "execution_count": 39,
   "id": "b3227adb",
   "metadata": {},
   "outputs": [
    {
     "name": "stdout",
     "output_type": "stream",
     "text": [
      "Found 4000 images belonging to 2 classes.\n"
     ]
    }
   ],
   "source": [
    "# Get all the data in the directory data/validation (132 images), and reshape them\n",
    "img_generator = ImageDataGenerator().flow_from_directory(\n",
    "    data_dir, target_size=(64, 64), batch_size=4000)\n",
    "images_64, labels_64 = next(img_generator)"
   ]
  },
  {
   "cell_type": "code",
   "execution_count": 40,
   "id": "b77c5095",
   "metadata": {},
   "outputs": [],
   "source": [
    "labels_64=labels_64[:,1]"
   ]
  },
  {
   "cell_type": "code",
   "execution_count": 41,
   "id": "d6ebb8a0",
   "metadata": {},
   "outputs": [],
   "source": [
    "# create model\n",
    "#Sequential: multiple layers built on top of each other\n",
    "\n",
    "model = models.Sequential()\n",
    "#Firs Convolutional Layer, with 3 neurons and 3X3 is the size of the filter\n",
    "model.add(layers.Conv2D(3, (3, 3), activation='relu',\n",
    "                        input_shape=(64,64,3)))\n",
    "#MaxPooling with filter size 2 and stride 2\n",
    "model.add(layers.MaxPooling2D(2,2))\n",
    "\n",
    "#Flattening the last layer to be able to add the last Dense layer\n",
    "model.add(layers.Flatten())\n",
    "#Dense layer with 9 neurons (because of 9 classes)\n",
    "model.add(layers.Dense(1, activation='sigmoid'))\n",
    "\n",
    "# Compiling the model\n",
    "model.compile(loss='binary_crossentropy',\n",
    "              optimizer='adam',\n",
    "              metrics=['acc'])"
   ]
  },
  {
   "cell_type": "code",
   "execution_count": 42,
   "id": "0f72ad74",
   "metadata": {},
   "outputs": [],
   "source": [
    "X=images_64\n",
    "y=labels_64"
   ]
  },
  {
   "cell_type": "code",
   "execution_count": 43,
   "id": "53c64210",
   "metadata": {},
   "outputs": [
    {
     "name": "stdout",
     "output_type": "stream",
     "text": [
      "Epoch 1/15\n",
      "320/320 [==============================] - 4s 12ms/step - loss: 6.3700 - acc: 0.7095 - val_loss: 0.1731 - val_acc: 0.9425\n",
      "Epoch 2/15\n",
      "320/320 [==============================] - 3s 10ms/step - loss: 0.1688 - acc: 0.9418 - val_loss: 0.1225 - val_acc: 0.9675\n",
      "Epoch 3/15\n",
      "320/320 [==============================] - 3s 11ms/step - loss: 0.0889 - acc: 0.9742 - val_loss: 0.0771 - val_acc: 0.9862\n",
      "Epoch 4/15\n",
      "320/320 [==============================] - 3s 10ms/step - loss: 0.0505 - acc: 0.9887 - val_loss: 0.0455 - val_acc: 0.9900\n",
      "Epoch 5/15\n",
      "320/320 [==============================] - 3s 11ms/step - loss: 0.0236 - acc: 0.9947 - val_loss: 0.0743 - val_acc: 0.9837\n",
      "Epoch 6/15\n",
      "320/320 [==============================] - 4s 13ms/step - loss: 0.0509 - acc: 0.9866 - val_loss: 0.0703 - val_acc: 0.9837\n",
      "Epoch 7/15\n",
      "320/320 [==============================] - 4s 13ms/step - loss: 0.0326 - acc: 0.9901 - val_loss: 0.0579 - val_acc: 0.9900\n",
      "Epoch 8/15\n",
      "320/320 [==============================] - 4s 14ms/step - loss: 0.0549 - acc: 0.9844 - val_loss: 0.1360 - val_acc: 0.9625\n",
      "Epoch 9/15\n",
      "320/320 [==============================] - 4s 12ms/step - loss: 0.0367 - acc: 0.9888 - val_loss: 0.1945 - val_acc: 0.9538\n",
      "Epoch 10/15\n",
      "320/320 [==============================] - 4s 13ms/step - loss: 0.1394 - acc: 0.9692 - val_loss: 0.0802 - val_acc: 0.9775\n",
      "Epoch 11/15\n",
      "320/320 [==============================] - 4s 12ms/step - loss: 0.0622 - acc: 0.9841 - val_loss: 0.1179 - val_acc: 0.9663\n",
      "Epoch 12/15\n",
      "320/320 [==============================] - 4s 13ms/step - loss: 0.0821 - acc: 0.9762 - val_loss: 0.1339 - val_acc: 0.9588\n",
      "Epoch 13/15\n",
      "320/320 [==============================] - 5s 15ms/step - loss: 0.0906 - acc: 0.9781 - val_loss: 0.0752 - val_acc: 0.9787\n",
      "Epoch 14/15\n",
      "320/320 [==============================] - 5s 17ms/step - loss: 0.0657 - acc: 0.9786 - val_loss: 0.0614 - val_acc: 0.9775\n",
      "Epoch 15/15\n",
      "320/320 [==============================] - 5s 16ms/step - loss: 0.0370 - acc: 0.9884 - val_loss: 0.1170 - val_acc: 0.9625\n"
     ]
    }
   ],
   "source": [
    "history = model.fit(X, y, epochs=15, batch_size=10, \n",
    "                        validation_split=0.2, verbose=1)"
   ]
  },
  {
   "cell_type": "code",
   "execution_count": 44,
   "id": "f5a48f59",
   "metadata": {},
   "outputs": [
    {
     "data": {
      "image/png": "[encoded data removed]",
      "text/plain": [
       "<Figure size 864x432 with 2 Axes>"
      ]
     },
     "metadata": {
      "needs_background": "light"
     },
     "output_type": "display_data"
    }
   ],
   "source": [
    "visualize_training_results(history)"
   ]
  },
  {
   "cell_type": "code",
   "execution_count": 45,
   "id": "07962795",
   "metadata": {},
   "outputs": [
    {
     "data": {
      "image/png": "[encoded data removed]",
      "text/plain": [
       "<Figure size 432x360 with 2 Axes>"
      ]
     },
     "metadata": {
      "needs_background": "light"
     },
     "output_type": "display_data"
    }
   ],
   "source": [
    "conf_matrix(model, X, y)"
   ]
  },
  {
   "cell_type": "code",
   "execution_count": null,
   "id": "6983001f",
   "metadata": {},
   "outputs": [],
   "source": []
  },
  {
   "cell_type": "code",
   "execution_count": null,
   "id": "e0dc496a",
   "metadata": {},
   "outputs": [],
   "source": []
  }
 ],
 "metadata": {
  "kernelspec": {
   "display_name": "Python [conda env:learn-env] *",
   "language": "python",
   "name": "conda-env-learn-env-py"
  },
  "language_info": {
   "codemirror_mode": {
    "name": "ipython",
    "version": 3
   },
   "file_extension": ".py",
   "mimetype": "text/x-python",
   "name": "python",
   "nbconvert_exporter": "python",
   "pygments_lexer": "ipython3",
   "version": "3.6.6"
  }
 },
 "nbformat": 4,
 "nbformat_minor": 5
}
