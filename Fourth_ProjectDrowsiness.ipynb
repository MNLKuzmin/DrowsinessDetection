{
 "cells": [
  {
   "cell_type": "markdown",
   "id": "edeefad1",
   "metadata": {},
   "source": [
    "**Fourth Project Drowsiness detection**"
   ]
  },
  {
   "cell_type": "code",
   "execution_count": 1,
   "id": "4c9209fb",
   "metadata": {},
   "outputs": [],
   "source": [
    "from keras_preprocessing.image import ImageDataGenerator, array_to_img, img_to_array, load_img\n",
    "import numpy as np\n",
    "import os"
   ]
  },
  {
   "cell_type": "markdown",
   "id": "4d1c3cdb",
   "metadata": {},
   "source": [
    "Let us try to preview some of our data"
   ]
  },
  {
   "cell_type": "code",
   "execution_count": 19,
   "id": "00e19cd6",
   "metadata": {},
   "outputs": [],
   "source": [
    "# Directory path\n",
    "open_data_dir = 'data/Open_Eyes/'\n",
    "close_data_dir = 'data/Closed_Eyes/'"
   ]
  },
  {
   "cell_type": "code",
   "execution_count": 20,
   "id": "f168b28a",
   "metadata": {},
   "outputs": [
    {
     "name": "stdout",
     "output_type": "stream",
     "text": [
      "Found 0 images belonging to 1 classes.\n",
      "Found 0 images belonging to 1 classes.\n"
     ]
    }
   ],
   "source": [
    "# Get all the data in the directory data/validation (132 images), and reshape them\n",
    "open_generator = ImageDataGenerator().flow_from_directory(open_data_dir, classes=['test'])\n",
    "#        open_data_dir) \n",
    "#        ,target_size=(64, 64))#, batch_size=132)\n",
    "\n",
    "# Get all the data in the directory data/train (790 images), and reshape them\n",
    "closed_generator = ImageDataGenerator().flow_from_directory(close_data_dir, classes=['test'])\n",
    "#        close_data_dir) \n",
    "#        ,target_size=(64, 64))#, batch_size=790)\n",
    "\n",
    "# Create the datasets\n",
    "#open_images = next(open_generator)\n",
    "#closed_images = next(closed_generator)"
   ]
  },
  {
   "cell_type": "code",
   "execution_count": 14,
   "id": "6cf04b28",
   "metadata": {},
   "outputs": [
    {
     "ename": "ValueError",
     "evalue": "Expected image array to have rank 3 (single image). Got array with shape: (0, 256, 256, 3)",
     "output_type": "error",
     "traceback": [
      "\u001b[0;31m---------------------------------------------------------------------------\u001b[0m",
      "\u001b[0;31mValueError\u001b[0m                                Traceback (most recent call last)",
      "\u001b[0;32m<ipython-input-14-7b754d5f47ba>\u001b[0m in \u001b[0;36m<module>\u001b[0;34m()\u001b[0m\n\u001b[1;32m      1\u001b[0m \u001b[0;31m# Preview an image\u001b[0m\u001b[0;34m\u001b[0m\u001b[0;34m\u001b[0m\u001b[0m\n\u001b[0;32m----> 2\u001b[0;31m \u001b[0marray_to_img\u001b[0m\u001b[0;34m(\u001b[0m\u001b[0mopen_images\u001b[0m\u001b[0;34m[\u001b[0m\u001b[0;36m0\u001b[0m\u001b[0;34m]\u001b[0m\u001b[0;34m)\u001b[0m\u001b[0;34m\u001b[0m\u001b[0m\n\u001b[0m",
      "\u001b[0;32m~/opt/anaconda3/envs/learn-env/lib/python3.6/site-packages/keras_preprocessing/image/utils.py\u001b[0m in \u001b[0;36marray_to_img\u001b[0;34m(x, data_format, scale, dtype)\u001b[0m\n\u001b[1;32m    255\u001b[0m     \u001b[0;32mif\u001b[0m \u001b[0mx\u001b[0m\u001b[0;34m.\u001b[0m\u001b[0mndim\u001b[0m \u001b[0;34m!=\u001b[0m \u001b[0;36m3\u001b[0m\u001b[0;34m:\u001b[0m\u001b[0;34m\u001b[0m\u001b[0m\n\u001b[1;32m    256\u001b[0m         raise ValueError('Expected image array to have rank 3 (single image). '\n\u001b[0;32m--> 257\u001b[0;31m                          'Got array with shape: %s' % (x.shape,))\n\u001b[0m\u001b[1;32m    258\u001b[0m \u001b[0;34m\u001b[0m\u001b[0m\n\u001b[1;32m    259\u001b[0m     \u001b[0;32mif\u001b[0m \u001b[0mdata_format\u001b[0m \u001b[0;32mnot\u001b[0m \u001b[0;32min\u001b[0m \u001b[0;34m{\u001b[0m\u001b[0;34m'channels_first'\u001b[0m\u001b[0;34m,\u001b[0m \u001b[0;34m'channels_last'\u001b[0m\u001b[0;34m}\u001b[0m\u001b[0;34m:\u001b[0m\u001b[0;34m\u001b[0m\u001b[0m\n",
      "\u001b[0;31mValueError\u001b[0m: Expected image array to have rank 3 (single image). Got array with shape: (0, 256, 256, 3)"
     ]
    }
   ],
   "source": [
    "# Preview an image\n",
    "array_to_img(open_images[0])"
   ]
  },
  {
   "cell_type": "code",
   "execution_count": null,
   "id": "a0b770f9",
   "metadata": {},
   "outputs": [],
   "source": [
    "# Preview an image\n",
    "array_to_img(closed_images[0])"
   ]
  },
  {
   "cell_type": "code",
   "execution_count": 21,
   "id": "202598a1",
   "metadata": {},
   "outputs": [],
   "source": [
    "# Directory path\n",
    "data_dir = 'data/'"
   ]
  },
  {
   "cell_type": "code",
   "execution_count": 30,
   "id": "6cc62bbd",
   "metadata": {},
   "outputs": [
    {
     "name": "stdout",
     "output_type": "stream",
     "text": [
      "Found 4000 images belonging to 2 classes.\n"
     ]
    }
   ],
   "source": [
    "# Get all the data in the directory data/validation (132 images), and reshape them\n",
    "open_generator = ImageDataGenerator().flow_from_directory(data_dir \n",
    "        ,target_size=(64, 64))\n"
   ]
  },
  {
   "cell_type": "code",
   "execution_count": 34,
   "id": "850e5c9e",
   "metadata": {},
   "outputs": [],
   "source": [
    "images, labels = next(open_generator)"
   ]
  },
  {
   "cell_type": "code",
   "execution_count": 35,
   "id": "b4a4782c",
   "metadata": {},
   "outputs": [
    {
     "data": {
      "image/png": "[encoded data removed]",
      "text/plain": [
       "<PIL.Image.Image image mode=RGB size=64x64 at 0x7FC4F665FA58>"
      ]
     },
     "execution_count": 35,
     "metadata": {},
     "output_type": "execute_result"
    }
   ],
   "source": [
    "# Preview an image\n",
    "array_to_img(images[0])"
   ]
  },
  {
   "cell_type": "code",
   "execution_count": null,
   "id": "59380cac",
   "metadata": {},
   "outputs": [],
   "source": []
  }
 ],
 "metadata": {
  "kernelspec": {
   "display_name": "Python [conda env:learn-env] *",
   "language": "python",
   "name": "conda-env-learn-env-py"
  },
  "language_info": {
   "codemirror_mode": {
    "name": "ipython",
    "version": 3
   },
   "file_extension": ".py",
   "mimetype": "text/x-python",
   "name": "python",
   "nbconvert_exporter": "python",
   "pygments_lexer": "ipython3",
   "version": "3.6.6"
  }
 },
 "nbformat": 4,
 "nbformat_minor": 5
}
